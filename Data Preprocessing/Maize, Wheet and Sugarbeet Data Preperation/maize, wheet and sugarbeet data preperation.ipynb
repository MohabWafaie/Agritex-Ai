{
 "cells": [
  {
   "cell_type": "code",
   "execution_count": 5,
   "id": "dea65171",
   "metadata": {},
   "outputs": [],
   "source": [
    "import cv2\n",
    "import os\n",
    "\n",
    "# Function to process images in a class directory\n",
    "def process_class_images(input_class_directory, output_class_directory):\n",
    "    # Create the output class directory if it doesn't exist\n",
    "    os.makedirs(output_class_directory, exist_ok=True)\n",
    "\n",
    "    # Process each image in the class directory\n",
    "    for filename in os.listdir(input_class_directory):\n",
    "        if filename.endswith(\".jpg\") or filename.endswith(\".png\"): \n",
    "            input_image_path = os.path.join(input_class_directory, filename)\n",
    "            output_image_path = os.path.join(output_class_directory, filename)\n",
    "            process_image(input_image_path, output_image_path)\n",
    "\n",
    "# Function to process each image\n",
    "def process_image(input_image_path, output_image_path):\n",
    "    # Load the image\n",
    "    image = cv2.imread(input_image_path)\n",
    "\n",
    "    # Convert the image to grayscale\n",
    "    gray_image = cv2.cvtColor(image, cv2.COLOR_BGR2GRAY)\n",
    "\n",
    "    # Threshold the image to get a binary mask of the black regions\n",
    "    _, mask = cv2.threshold(gray_image, 1, 255, cv2.THRESH_BINARY)\n",
    "\n",
    "    # Invert the mask\n",
    "    mask = cv2.bitwise_not(mask)\n",
    "\n",
    "    # Use the mask to change the black color to white\n",
    "    image[mask == 255] = [255, 255, 255]\n",
    "\n",
    "    # Save the result\n",
    "    cv2.imwrite(output_image_path, image)\n",
    "\n",
    "# Directory containing class directories\n",
    "input_classes_directory = r\"D:\\Projects\\Weed Detection\\data\\maize,wheet_and_sugarbeet\\Segmented\"\n",
    "\n",
    "# Directory to save the processed images\n",
    "output_classes_directory = r\"D:\\Projects\\Weed Detection\\data\\maize,wheet_and_sugarbeet\\processed\"\n",
    "\n",
    "# Process each class directory\n",
    "for class_name in os.listdir(input_classes_directory):\n",
    "    if os.path.isdir(os.path.join(input_classes_directory, class_name)):\n",
    "        input_class_directory = os.path.join(input_classes_directory, class_name)\n",
    "        output_class_directory = os.path.join(output_classes_directory, class_name)\n",
    "        process_class_images(input_class_directory, output_class_directory)\n"
   ]
  },
  {
   "cell_type": "code",
   "execution_count": null,
   "id": "2df5ff6d",
   "metadata": {},
   "outputs": [],
   "source": []
  }
 ],
 "metadata": {
  "kernelspec": {
   "display_name": "Python 3 (ipykernel)",
   "language": "python",
   "name": "python3"
  },
  "language_info": {
   "codemirror_mode": {
    "name": "ipython",
    "version": 3
   },
   "file_extension": ".py",
   "mimetype": "text/x-python",
   "name": "python",
   "nbconvert_exporter": "python",
   "pygments_lexer": "ipython3",
   "version": "3.11.5"
  }
 },
 "nbformat": 4,
 "nbformat_minor": 5
}
